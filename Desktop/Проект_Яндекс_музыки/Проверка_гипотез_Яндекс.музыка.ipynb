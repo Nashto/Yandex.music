{
 "cells": [
  {
   "cell_type": "markdown",
   "metadata": {},
   "source": [
    "# Яндекс.Музыка"
   ]
  },
  {
   "cell_type": "markdown",
   "metadata": {},
   "source": [
    "Сравнение Москвы и Петербурга окружено мифами. Например:\n",
    " * Москва — мегаполис, подчинённый жёсткому ритму рабочей недели;\n",
    " * Петербург — культурная столица, со своими вкусами.\n",
    "\n",
    "На данных Яндекс.Музыки вы сравните поведение пользователей двух столиц.\n",
    "\n",
    "**Цель исследования** — проверьте три гипотезы:\n",
    "1. Активность пользователей зависит от дня недели. Причём в Москве и Петербурге это проявляется по-разному.\n",
    "2. В понедельник утром в Москве преобладают одни жанры, а в Петербурге — другие. Так же и вечером пятницы преобладают разные жанры — в зависимости от города. \n",
    "3. Москва и Петербург предпочитают разные жанры музыки. В Москве чаще слушают поп-музыку, в Петербурге — русский рэп.\n",
    "\n",
    "**Ход исследования**\n",
    "\n",
    "Данные о поведении пользователей получим из файла `yandex_music_project.csv`. О качестве данных ничего не известно. Поэтому перед проверкой гипотез понадобится обзор данных. \n",
    "\n",
    "Мы проверим данные на ошибки и оцените их влияние на исследование. Затем, на этапе предобработки поищем возможность исправить самые критичные ошибки данных.\n",
    " \n",
    "Таким образом, исследование пройдёт в три этапа:\n",
    " 1. Обзор данных.\n",
    " 2. Предобработка данных.\n",
    " 3. Проверка гипотез."
   ]
  },
  {
   "cell_type": "markdown",
   "metadata": {},
   "source": [
    "## Обзор данных"
   ]
  },
  {
   "cell_type": "markdown",
   "metadata": {
    "id": "57eAOGIz_Zcs"
   },
   "source": [
    " Импорт библиотеки pandas"
   ]
  },
  {
   "cell_type": "code",
   "execution_count": 25,
   "metadata": {
    "id": "AXN7PHPN_Zcs"
   },
   "outputs": [],
   "source": [
    "import pandas as pd"
   ]
  },
  {
   "cell_type": "code",
   "execution_count": 31,
   "metadata": {
    "id": "fFVu7vqh_Zct"
   },
   "outputs": [],
   "source": [
    "df = pd.read_csv('C:/Users/Nshan/Desktop/Проект_Яндекс_музыки/datasets/yandex_music_project.csv')# чтение файла с данными и сохранение в df"
   ]
  },
  {
   "cell_type": "code",
   "execution_count": 32,
   "metadata": {
    "id": "oWTVX3gW_Zct",
    "scrolled": false
   },
   "outputs": [
    {
     "data": {
      "text/html": [
       "<div>\n",
       "<style scoped>\n",
       "    .dataframe tbody tr th:only-of-type {\n",
       "        vertical-align: middle;\n",
       "    }\n",
       "\n",
       "    .dataframe tbody tr th {\n",
       "        vertical-align: top;\n",
       "    }\n",
       "\n",
       "    .dataframe thead th {\n",
       "        text-align: right;\n",
       "    }\n",
       "</style>\n",
       "<table border=\"1\" class=\"dataframe\">\n",
       "  <thead>\n",
       "    <tr style=\"text-align: right;\">\n",
       "      <th></th>\n",
       "      <th>Unnamed: 0</th>\n",
       "      <th>userID</th>\n",
       "      <th>Track</th>\n",
       "      <th>artist</th>\n",
       "      <th>genre</th>\n",
       "      <th>City</th>\n",
       "      <th>time</th>\n",
       "      <th>Day</th>\n",
       "    </tr>\n",
       "  </thead>\n",
       "  <tbody>\n",
       "    <tr>\n",
       "      <th>0</th>\n",
       "      <td>0</td>\n",
       "      <td>FFB692EC</td>\n",
       "      <td>Kamigata To Boots</td>\n",
       "      <td>The Mass Missile</td>\n",
       "      <td>rock</td>\n",
       "      <td>Saint-Petersburg</td>\n",
       "      <td>20:28:33</td>\n",
       "      <td>Wednesday</td>\n",
       "    </tr>\n",
       "    <tr>\n",
       "      <th>1</th>\n",
       "      <td>1</td>\n",
       "      <td>55204538</td>\n",
       "      <td>Delayed Because of Accident</td>\n",
       "      <td>Andreas Rönnberg</td>\n",
       "      <td>rock</td>\n",
       "      <td>Moscow</td>\n",
       "      <td>14:07:09</td>\n",
       "      <td>Friday</td>\n",
       "    </tr>\n",
       "    <tr>\n",
       "      <th>2</th>\n",
       "      <td>2</td>\n",
       "      <td>20EC38</td>\n",
       "      <td>Funiculì funiculà</td>\n",
       "      <td>Mario Lanza</td>\n",
       "      <td>pop</td>\n",
       "      <td>Saint-Petersburg</td>\n",
       "      <td>20:58:07</td>\n",
       "      <td>Wednesday</td>\n",
       "    </tr>\n",
       "    <tr>\n",
       "      <th>3</th>\n",
       "      <td>3</td>\n",
       "      <td>A3DD03C9</td>\n",
       "      <td>Dragons in the Sunset</td>\n",
       "      <td>Fire + Ice</td>\n",
       "      <td>folk</td>\n",
       "      <td>Saint-Petersburg</td>\n",
       "      <td>08:37:09</td>\n",
       "      <td>Monday</td>\n",
       "    </tr>\n",
       "    <tr>\n",
       "      <th>4</th>\n",
       "      <td>4</td>\n",
       "      <td>E2DC1FAE</td>\n",
       "      <td>Soul People</td>\n",
       "      <td>Space Echo</td>\n",
       "      <td>dance</td>\n",
       "      <td>Moscow</td>\n",
       "      <td>08:34:34</td>\n",
       "      <td>Monday</td>\n",
       "    </tr>\n",
       "    <tr>\n",
       "      <th>5</th>\n",
       "      <td>5</td>\n",
       "      <td>842029A1</td>\n",
       "      <td>Преданная</td>\n",
       "      <td>IMPERVTOR</td>\n",
       "      <td>rusrap</td>\n",
       "      <td>Saint-Petersburg</td>\n",
       "      <td>13:09:41</td>\n",
       "      <td>Friday</td>\n",
       "    </tr>\n",
       "    <tr>\n",
       "      <th>6</th>\n",
       "      <td>6</td>\n",
       "      <td>4CB90AA5</td>\n",
       "      <td>True</td>\n",
       "      <td>Roman Messer</td>\n",
       "      <td>dance</td>\n",
       "      <td>Moscow</td>\n",
       "      <td>13:00:07</td>\n",
       "      <td>Wednesday</td>\n",
       "    </tr>\n",
       "    <tr>\n",
       "      <th>7</th>\n",
       "      <td>7</td>\n",
       "      <td>F03E1C1F</td>\n",
       "      <td>Feeling This Way</td>\n",
       "      <td>Polina Griffith</td>\n",
       "      <td>dance</td>\n",
       "      <td>Moscow</td>\n",
       "      <td>20:47:49</td>\n",
       "      <td>Wednesday</td>\n",
       "    </tr>\n",
       "    <tr>\n",
       "      <th>8</th>\n",
       "      <td>8</td>\n",
       "      <td>8FA1D3BE</td>\n",
       "      <td>И вновь продолжается бой</td>\n",
       "      <td>NaN</td>\n",
       "      <td>ruspop</td>\n",
       "      <td>Moscow</td>\n",
       "      <td>09:17:40</td>\n",
       "      <td>Friday</td>\n",
       "    </tr>\n",
       "    <tr>\n",
       "      <th>9</th>\n",
       "      <td>9</td>\n",
       "      <td>E772D5C0</td>\n",
       "      <td>Pessimist</td>\n",
       "      <td>NaN</td>\n",
       "      <td>dance</td>\n",
       "      <td>Saint-Petersburg</td>\n",
       "      <td>21:20:49</td>\n",
       "      <td>Wednesday</td>\n",
       "    </tr>\n",
       "  </tbody>\n",
       "</table>\n",
       "</div>"
      ],
      "text/plain": [
       "   Unnamed: 0    userID                        Track            artist  \\\n",
       "0           0  FFB692EC            Kamigata To Boots  The Mass Missile   \n",
       "1           1  55204538  Delayed Because of Accident  Andreas Rönnberg   \n",
       "2           2    20EC38            Funiculì funiculà       Mario Lanza   \n",
       "3           3  A3DD03C9        Dragons in the Sunset        Fire + Ice   \n",
       "4           4  E2DC1FAE                  Soul People        Space Echo   \n",
       "5           5  842029A1                    Преданная         IMPERVTOR   \n",
       "6           6  4CB90AA5                         True      Roman Messer   \n",
       "7           7  F03E1C1F             Feeling This Way   Polina Griffith   \n",
       "8           8  8FA1D3BE     И вновь продолжается бой               NaN   \n",
       "9           9  E772D5C0                    Pessimist               NaN   \n",
       "\n",
       "    genre            City        time        Day  \n",
       "0    rock  Saint-Petersburg  20:28:33  Wednesday  \n",
       "1    rock            Moscow  14:07:09     Friday  \n",
       "2     pop  Saint-Petersburg  20:58:07  Wednesday  \n",
       "3    folk  Saint-Petersburg  08:37:09     Monday  \n",
       "4   dance            Moscow  08:34:34     Monday  \n",
       "5  rusrap  Saint-Petersburg  13:09:41     Friday  \n",
       "6   dance            Moscow  13:00:07  Wednesday  \n",
       "7   dance            Moscow  20:47:49  Wednesday  \n",
       "8  ruspop            Moscow  09:17:40     Friday  \n",
       "9   dance  Saint-Petersburg  21:20:49  Wednesday  "
      ]
     },
     "execution_count": 32,
     "metadata": {},
     "output_type": "execute_result"
    }
   ],
   "source": [
    "df.head(10)# получение первых 10 строк таблицы df"
   ]
  },
  {
   "cell_type": "code",
   "execution_count": 33,
   "metadata": {},
   "outputs": [
    {
     "name": "stderr",
     "output_type": "stream",
     "text": [
      "C:\\Users\\Nshan\\AppData\\Local\\Temp/ipykernel_17712/3812631323.py:1: FutureWarning: In a future version of pandas all arguments of DataFrame.drop except for the argument 'labels' will be keyword-only\n",
      "  df = df.drop('Unnamed: 0', 1)\n"
     ]
    }
   ],
   "source": [
    "df = df.drop('Unnamed: 0', 1)"
   ]
  },
  {
   "cell_type": "code",
   "execution_count": 34,
   "metadata": {},
   "outputs": [
    {
     "data": {
      "text/html": [
       "<div>\n",
       "<style scoped>\n",
       "    .dataframe tbody tr th:only-of-type {\n",
       "        vertical-align: middle;\n",
       "    }\n",
       "\n",
       "    .dataframe tbody tr th {\n",
       "        vertical-align: top;\n",
       "    }\n",
       "\n",
       "    .dataframe thead th {\n",
       "        text-align: right;\n",
       "    }\n",
       "</style>\n",
       "<table border=\"1\" class=\"dataframe\">\n",
       "  <thead>\n",
       "    <tr style=\"text-align: right;\">\n",
       "      <th></th>\n",
       "      <th>userID</th>\n",
       "      <th>Track</th>\n",
       "      <th>artist</th>\n",
       "      <th>genre</th>\n",
       "      <th>City</th>\n",
       "      <th>time</th>\n",
       "      <th>Day</th>\n",
       "    </tr>\n",
       "  </thead>\n",
       "  <tbody>\n",
       "    <tr>\n",
       "      <th>65069</th>\n",
       "      <td>BE1AAD74</td>\n",
       "      <td>Waterwalk</td>\n",
       "      <td>Eduardo Gonzales</td>\n",
       "      <td>electronic</td>\n",
       "      <td>Moscow</td>\n",
       "      <td>20:38:59</td>\n",
       "      <td>Monday</td>\n",
       "    </tr>\n",
       "    <tr>\n",
       "      <th>65070</th>\n",
       "      <td>49F35D53</td>\n",
       "      <td>Ass Up</td>\n",
       "      <td>Rameez</td>\n",
       "      <td>dance</td>\n",
       "      <td>Moscow</td>\n",
       "      <td>14:08:58</td>\n",
       "      <td>Friday</td>\n",
       "    </tr>\n",
       "    <tr>\n",
       "      <th>65071</th>\n",
       "      <td>92378E24</td>\n",
       "      <td>Swing it Like You Mean it</td>\n",
       "      <td>OJOJOJ</td>\n",
       "      <td>techno</td>\n",
       "      <td>Moscow</td>\n",
       "      <td>21:12:56</td>\n",
       "      <td>Friday</td>\n",
       "    </tr>\n",
       "    <tr>\n",
       "      <th>65072</th>\n",
       "      <td>C532021D</td>\n",
       "      <td>We Can Not Be Silenced</td>\n",
       "      <td>Pänzer</td>\n",
       "      <td>extrememetal</td>\n",
       "      <td>Moscow</td>\n",
       "      <td>08:38:24</td>\n",
       "      <td>Friday</td>\n",
       "    </tr>\n",
       "    <tr>\n",
       "      <th>65073</th>\n",
       "      <td>83A474E7</td>\n",
       "      <td>I Worship Only What You Bleed</td>\n",
       "      <td>The Black Dahlia Murder</td>\n",
       "      <td>extrememetal</td>\n",
       "      <td>Moscow</td>\n",
       "      <td>21:07:12</td>\n",
       "      <td>Monday</td>\n",
       "    </tr>\n",
       "    <tr>\n",
       "      <th>65074</th>\n",
       "      <td>729CBB09</td>\n",
       "      <td>My Name</td>\n",
       "      <td>McLean</td>\n",
       "      <td>rnb</td>\n",
       "      <td>Moscow</td>\n",
       "      <td>13:32:28</td>\n",
       "      <td>Wednesday</td>\n",
       "    </tr>\n",
       "    <tr>\n",
       "      <th>65075</th>\n",
       "      <td>D08D4A55</td>\n",
       "      <td>Maybe One Day (feat. Black Spade)</td>\n",
       "      <td>Blu &amp; Exile</td>\n",
       "      <td>hip</td>\n",
       "      <td>Saint-Petersburg</td>\n",
       "      <td>10:00:00</td>\n",
       "      <td>Monday</td>\n",
       "    </tr>\n",
       "    <tr>\n",
       "      <th>65076</th>\n",
       "      <td>C5E3A0D5</td>\n",
       "      <td>Jalopiina</td>\n",
       "      <td>NaN</td>\n",
       "      <td>industrial</td>\n",
       "      <td>Moscow</td>\n",
       "      <td>20:09:26</td>\n",
       "      <td>Friday</td>\n",
       "    </tr>\n",
       "    <tr>\n",
       "      <th>65077</th>\n",
       "      <td>321D0506</td>\n",
       "      <td>Freight Train</td>\n",
       "      <td>Chas McDevitt</td>\n",
       "      <td>rock</td>\n",
       "      <td>Moscow</td>\n",
       "      <td>21:43:59</td>\n",
       "      <td>Friday</td>\n",
       "    </tr>\n",
       "    <tr>\n",
       "      <th>65078</th>\n",
       "      <td>3A64EF84</td>\n",
       "      <td>Tell Me Sweet Little Lies</td>\n",
       "      <td>Monica Lopez</td>\n",
       "      <td>country</td>\n",
       "      <td>Moscow</td>\n",
       "      <td>21:59:46</td>\n",
       "      <td>Friday</td>\n",
       "    </tr>\n",
       "  </tbody>\n",
       "</table>\n",
       "</div>"
      ],
      "text/plain": [
       "         userID                              Track                   artist  \\\n",
       "65069  BE1AAD74                          Waterwalk         Eduardo Gonzales   \n",
       "65070  49F35D53                             Ass Up                   Rameez   \n",
       "65071  92378E24          Swing it Like You Mean it                   OJOJOJ   \n",
       "65072  C532021D             We Can Not Be Silenced                   Pänzer   \n",
       "65073  83A474E7      I Worship Only What You Bleed  The Black Dahlia Murder   \n",
       "65074  729CBB09                            My Name                   McLean   \n",
       "65075  D08D4A55  Maybe One Day (feat. Black Spade)              Blu & Exile   \n",
       "65076  C5E3A0D5                          Jalopiina                      NaN   \n",
       "65077  321D0506                      Freight Train            Chas McDevitt   \n",
       "65078  3A64EF84          Tell Me Sweet Little Lies             Monica Lopez   \n",
       "\n",
       "              genre            City        time        Day  \n",
       "65069    electronic            Moscow  20:38:59     Monday  \n",
       "65070         dance            Moscow  14:08:58     Friday  \n",
       "65071        techno            Moscow  21:12:56     Friday  \n",
       "65072  extrememetal            Moscow  08:38:24     Friday  \n",
       "65073  extrememetal            Moscow  21:07:12     Monday  \n",
       "65074           rnb            Moscow  13:32:28  Wednesday  \n",
       "65075           hip  Saint-Petersburg  10:00:00     Monday  \n",
       "65076    industrial            Moscow  20:09:26     Friday  \n",
       "65077          rock            Moscow  21:43:59     Friday  \n",
       "65078       country            Moscow  21:59:46     Friday  "
      ]
     },
     "execution_count": 34,
     "metadata": {},
     "output_type": "execute_result"
    }
   ],
   "source": [
    "df.tail(10)# получение последних 10 строк таблицы df"
   ]
  },
  {
   "cell_type": "code",
   "execution_count": 35,
   "metadata": {
    "id": "DSf2kIb-_Zct"
   },
   "outputs": [
    {
     "name": "stdout",
     "output_type": "stream",
     "text": [
      "<class 'pandas.core.frame.DataFrame'>\n",
      "RangeIndex: 65079 entries, 0 to 65078\n",
      "Data columns (total 7 columns):\n",
      " #   Column    Non-Null Count  Dtype \n",
      "---  ------    --------------  ----- \n",
      " 0     userID  65079 non-null  object\n",
      " 1   Track     63848 non-null  object\n",
      " 2   artist    57876 non-null  object\n",
      " 3   genre     63881 non-null  object\n",
      " 4     City    65079 non-null  object\n",
      " 5   time      65079 non-null  object\n",
      " 6   Day       65079 non-null  object\n",
      "dtypes: object(7)\n",
      "memory usage: 3.5+ MB\n"
     ]
    }
   ],
   "source": [
    "df.info()# получение общей информации о данных в таблице df"
   ]
  },
  {
   "cell_type": "markdown",
   "metadata": {},
   "source": [
    "## Предобработка данных"
   ]
  },
  {
   "cell_type": "code",
   "execution_count": 36,
   "metadata": {
    "id": "oKOTdF_Q_Zct"
   },
   "outputs": [
    {
     "data": {
      "text/plain": [
       "Index(['  userID', 'Track', 'artist', 'genre', '  City  ', 'time', 'Day'], dtype='object')"
      ]
     },
     "execution_count": 36,
     "metadata": {},
     "output_type": "execute_result"
    }
   ],
   "source": [
    "df.columns# перечень названий столбцов таблицы df"
   ]
  },
  {
   "cell_type": "code",
   "execution_count": 37,
   "metadata": {
    "id": "ISlFqs5y_Zct"
   },
   "outputs": [],
   "source": [
    "df = df.rename(columns={'  userID': 'user_id', 'Track': 'track', '  City  ': 'city', 'Day': 'day'})# переименование столбцов"
   ]
  },
  {
   "cell_type": "code",
   "execution_count": 38,
   "metadata": {
    "id": "d4NOAmTW_Zct"
   },
   "outputs": [
    {
     "data": {
      "text/plain": [
       "Index(['user_id', 'track', 'artist', 'genre', 'city', 'time', 'day'], dtype='object')"
      ]
     },
     "execution_count": 38,
     "metadata": {},
     "output_type": "execute_result"
    }
   ],
   "source": [
    "df.columns# проверка результатов - перечень названий столбцов"
   ]
  },
  {
   "cell_type": "code",
   "execution_count": 39,
   "metadata": {
    "id": "RskX29qr_Zct"
   },
   "outputs": [
    {
     "data": {
      "text/plain": [
       "user_id       0\n",
       "track      1231\n",
       "artist     7203\n",
       "genre      1198\n",
       "city          0\n",
       "time          0\n",
       "day           0\n",
       "dtype: int64"
      ]
     },
     "execution_count": 39,
     "metadata": {},
     "output_type": "execute_result"
    }
   ],
   "source": [
    "df.isna().sum()# подсчёт пропусков"
   ]
  },
  {
   "cell_type": "markdown",
   "metadata": {
    "id": "qubhgnlO_Zct"
   },
   "source": [
    "Не все пропущенные значения влияют на исследование. Так в `track` и `artist` пропуски не важны для вашей работы. Достаточно заменить их явными обозначениями.\n",
    "\n",
    "Но пропуски в `genre` могут помешать сравнению музыкальных вкусов в Москве и Санкт-Петербурге. Было бы правильно установить причину пропусков и восстановить данные. Такой возможности нет. Придётся:\n",
    "* заполнить и эти пропуски явными обозначениями,\n",
    "* оценить, насколько они повредят расчётам. "
   ]
  },
  {
   "cell_type": "markdown",
   "metadata": {
    "id": "fSv2laPA_Zct"
   },
   "source": [
    "Замените пропущенные значения в столбцах `track`, `artist` и `genre` на строку `'unknown'`. Для этого создадим список `columns_to_replace`, переберите его элементы циклом `for` и для каждого столбца выполните замену пропущенных значений:"
   ]
  },
  {
   "cell_type": "code",
   "execution_count": 40,
   "metadata": {
    "id": "KplB5qWs_Zct"
   },
   "outputs": [],
   "source": [
    "columns_to_replace = ['track', 'artist', 'genre']# перебор названий столбцов в цикле и замена пропущенных значений на 'unknown'\n",
    "for column in columns_to_replace:\n",
    "    df[column] = df[column].fillna('unknown')"
   ]
  },
  {
   "cell_type": "markdown",
   "metadata": {
    "id": "Ilsm-MZo_Zct"
   },
   "source": [
    "Убедитесь, что в таблице не осталось пропусков. Для этого ещё раз посчитайте пропущенные значения."
   ]
  },
  {
   "cell_type": "code",
   "execution_count": 41,
   "metadata": {
    "id": "Tq4nYRX4_Zct"
   },
   "outputs": [
    {
     "data": {
      "text/plain": [
       "user_id    0\n",
       "track      0\n",
       "artist     0\n",
       "genre      0\n",
       "city       0\n",
       "time       0\n",
       "day        0\n",
       "dtype: int64"
      ]
     },
     "execution_count": 41,
     "metadata": {},
     "output_type": "execute_result"
    }
   ],
   "source": [
    "df.isna().sum()# подсчёт пропусков"
   ]
  },
  {
   "cell_type": "markdown",
   "metadata": {
    "id": "BWKRtBJ3_Zct"
   },
   "source": [
    "### Дубликаты\n",
    "Посчитаем явные дубликаты в таблице одной командой:"
   ]
  },
  {
   "cell_type": "code",
   "execution_count": 42,
   "metadata": {
    "id": "36eES_S0_Zct"
   },
   "outputs": [
    {
     "data": {
      "text/plain": [
       "3826"
      ]
     },
     "execution_count": 42,
     "metadata": {},
     "output_type": "execute_result"
    }
   ],
   "source": [
    "df.duplicated().sum()# подсчёт явных дубликатов"
   ]
  },
  {
   "cell_type": "code",
   "execution_count": 43,
   "metadata": {
    "id": "exFHq6tt_Zct"
   },
   "outputs": [],
   "source": [
    "df = df.drop_duplicates().reset_index(drop=True)# удаление явных дубликатов (с удалением старых индексов и формированием новых)"
   ]
  },
  {
   "cell_type": "code",
   "execution_count": 44,
   "metadata": {
    "id": "-8PuNWQ0_Zct"
   },
   "outputs": [
    {
     "data": {
      "text/plain": [
       "0"
      ]
     },
     "execution_count": 44,
     "metadata": {},
     "output_type": "execute_result"
    }
   ],
   "source": [
    "df.duplicated().sum()# проверка на отсутствие дубликатов"
   ]
  },
  {
   "cell_type": "markdown",
   "metadata": {},
   "source": [
    "<h3>Неявные дубликаты</h3>"
   ]
  },
  {
   "cell_type": "code",
   "execution_count": 45,
   "metadata": {
    "id": "JIUcqzZN_Zct"
   },
   "outputs": [
    {
     "data": {
      "text/plain": [
       "array(['электроника', 'ïîï', 'worldbeat', 'world', 'western', 'vocal',\n",
       "       'videogame', 'vi', 'variété', 'uzbek', 'urban', 'unknown',\n",
       "       'ukrrock', 'türkçe', 'türk', 'tropical', 'triphop', 'trip',\n",
       "       'tribal', 'trance', 'tradjazz', 'traditional', 'top', 'thrash',\n",
       "       'teen', 'techno', 'tech', 'tatar', 'taraftar', 'tanzorchester',\n",
       "       'tango', 'sängerportrait', 'synthrock', 'synthpop', 'swing',\n",
       "       'surf', 'stonerrock', 'sport', 'spiritual', 'speech', 'specialty',\n",
       "       'southern', 'soundtrack', 'sound', 'soulful', 'soul', 'soft',\n",
       "       'smooth', 'slow', 'skarock', 'ska', 'singer', 'showtunes',\n",
       "       'shoegazing', 'shanson', 'sertanejo', 'self', 'schlager', 'scenic',\n",
       "       'samba', 'salsa', 'russian', 'rusrock', 'rusrap', 'ruspop',\n",
       "       'roots', 'romance', 'rockother', 'rockindie', 'rockalternative',\n",
       "       'rockabilly', 'rock', 'rnr', 'rnb', 'rhythm', 'retro', 'religious',\n",
       "       'relax', 'regional', 'reggaeton', 'reggae', 'rave', 'rap',\n",
       "       'rancheras', 'ram', 'ragga', 'quebecois', 'punk', 'punjabi',\n",
       "       'psychedelic', 'progressive', 'progmetal', 'power', 'postrock',\n",
       "       'posthardcore', 'post', 'poprussian', 'popeurodance',\n",
       "       'popelectronic', 'popdance', 'pop', 'podcasts', 'piano', 'other',\n",
       "       'orchestral', 'opera', 'old', 'oceania', 'numetal', 'nujazz', 'nu',\n",
       "       'newwave', 'newage', 'new', 'neue', 'neoklassik', 'native',\n",
       "       'muslim', 'mpb', 'mood', 'modern', 'miscellaneous', 'minimal',\n",
       "       'middle', 'mexican', 'metalcore', 'metal', 'melodic',\n",
       "       'mediterranean', 'meditative', 'marschmusik', 'mandopop',\n",
       "       'malaysian', 'lovers', 'loungeelectronic', 'lounge', 'local',\n",
       "       'leftfield', 'latino', 'latin', 'laiko', 'korean', 'kayokyoku',\n",
       "       'karaoke', 'karadeniz', 'k-pop', 'jungle', 'jpop', 'jewish',\n",
       "       'jazz', 'japanese', 'jam', 'irish', 'international',\n",
       "       'instrumental', 'inspirational', 'industrial', 'indipop', 'indie',\n",
       "       'indian', 'independent', 'idm', 'hymn', 'house', 'horror', 'hop',\n",
       "       'holiday', 'historisch', 'hiphop', 'hip-hop', 'hip', 'hardtechno',\n",
       "       'hardstyle', 'hardcore', \"hard'n'heavy\", 'handsup', 'gypsy',\n",
       "       'grunge', 'grime', 'gothic', 'gospel', 'glitch', 'gitarre',\n",
       "       'ghazal', 'german', 'garage', 'gangsta', 'future', 'funk',\n",
       "       'french', 'französisch', 'frankreich', 'forró', 'folktronica',\n",
       "       'folkrock', 'folkmetal', 'folklore', 'folk', 'flamenco', 'fitness',\n",
       "       'film', 'fairytail', 'fado', 'extrememetal', 'experimental',\n",
       "       'european', 'eurofolk', 'ethnic', 'estrada', 'epicmetal',\n",
       "       'entehno', 'emo', 'electropop', 'electronic', 'easy', 'eastern',\n",
       "       'dubstep', 'dub', 'drum', 'downtempo', 'downbeat', 'documentary',\n",
       "       'dnb', 'disco', 'dirty', 'deutschspr', 'deutschrock', 'deep',\n",
       "       'death', 'dark', 'dancepop', 'dancehall', 'dance', 'cuban',\n",
       "       'country', 'contemporary', 'conjazz', 'comedy', 'colombian',\n",
       "       'club', 'classicmetal', 'classical', 'christmas', 'christian',\n",
       "       'choral', 'chinese', 'chill', 'children', 'chanson', 'chamber',\n",
       "       'celtic', 'caucasian', 'caribbean', 'canzone', 'cantopop',\n",
       "       'cantautori', 'broadway', 'breaks', 'breakbeat', 'brazilian',\n",
       "       'bossa', 'bollywood', 'blues', 'bluegrass', 'black', 'bigroom',\n",
       "       'beats', 'balkan', 'baile', 'axé', 'avantgarde', 'author',\n",
       "       'audiobook', 'art', 'argentinetango', 'arena', 'arabic', 'arabesk',\n",
       "       'anime', 'animated', 'americana', 'ambient', 'alternativepunk',\n",
       "       'alternative', 'afrikaans', 'africa', 'adult', 'action',\n",
       "       'acoustic', 'acid'], dtype=object)"
      ]
     },
     "execution_count": 45,
     "metadata": {},
     "output_type": "execute_result"
    }
   ],
   "source": [
    "df['genre'].sort_values(ascending=False).unique() #Просмотр уникальных названий жанров"
   ]
  },
  {
   "cell_type": "code",
   "execution_count": 46,
   "metadata": {
    "id": "ErNDkmns_Zct"
   },
   "outputs": [],
   "source": [
    "def replace_wrong_genres(wrong_genres, corret_genre):# Функция для замены неявных дубликатов\n",
    "    for wrong_genre in wrong_genres:\n",
    "        df['genre'] = df['genre'].replace(wrong_genre, corret_genre)"
   ]
  },
  {
   "cell_type": "code",
   "execution_count": 47,
   "metadata": {
    "id": "YN5i2hpmSo09"
   },
   "outputs": [],
   "source": [
    "# Устранение неявных дубликатов\n",
    "wrong_hiphop = ['hip', 'hop', 'hip-hop']\n",
    "correct_hip_hop = 'hiphop'\n",
    "wrong_electronic = ['электроника']\n",
    "correct_electronic = 'electronic'\n",
    "replace_wrong_genres(wrong_hiphop, correct_hip_hop)\n",
    "replace_wrong_genres(wrong_electronic, correct_electronic)"
   ]
  },
  {
   "cell_type": "code",
   "execution_count": 48,
   "metadata": {
    "id": "wvixALnFG15m"
   },
   "outputs": [
    {
     "data": {
      "text/plain": [
       "array(['ïîï', 'worldbeat', 'world', 'western', 'vocal', 'videogame', 'vi',\n",
       "       'variété', 'uzbek', 'urban', 'unknown', 'ukrrock', 'türkçe',\n",
       "       'türk', 'tropical', 'triphop', 'trip', 'tribal', 'trance',\n",
       "       'tradjazz', 'traditional', 'top', 'thrash', 'teen', 'techno',\n",
       "       'tech', 'tatar', 'taraftar', 'tanzorchester', 'tango',\n",
       "       'sängerportrait', 'synthrock', 'synthpop', 'swing', 'surf',\n",
       "       'stonerrock', 'sport', 'spiritual', 'speech', 'specialty',\n",
       "       'southern', 'soundtrack', 'sound', 'soulful', 'soul', 'soft',\n",
       "       'smooth', 'slow', 'skarock', 'ska', 'singer', 'showtunes',\n",
       "       'shoegazing', 'shanson', 'sertanejo', 'self', 'schlager', 'scenic',\n",
       "       'samba', 'salsa', 'russian', 'rusrock', 'rusrap', 'ruspop',\n",
       "       'roots', 'romance', 'rockother', 'rockindie', 'rockalternative',\n",
       "       'rockabilly', 'rock', 'rnr', 'rnb', 'rhythm', 'retro', 'religious',\n",
       "       'relax', 'regional', 'reggaeton', 'reggae', 'rave', 'rap',\n",
       "       'rancheras', 'ram', 'ragga', 'quebecois', 'punk', 'punjabi',\n",
       "       'psychedelic', 'progressive', 'progmetal', 'power', 'postrock',\n",
       "       'posthardcore', 'post', 'poprussian', 'popeurodance',\n",
       "       'popelectronic', 'popdance', 'pop', 'podcasts', 'piano', 'other',\n",
       "       'orchestral', 'opera', 'old', 'oceania', 'numetal', 'nujazz', 'nu',\n",
       "       'newwave', 'newage', 'new', 'neue', 'neoklassik', 'native',\n",
       "       'muslim', 'mpb', 'mood', 'modern', 'miscellaneous', 'minimal',\n",
       "       'middle', 'mexican', 'metalcore', 'metal', 'melodic',\n",
       "       'mediterranean', 'meditative', 'marschmusik', 'mandopop',\n",
       "       'malaysian', 'lovers', 'loungeelectronic', 'lounge', 'local',\n",
       "       'leftfield', 'latino', 'latin', 'laiko', 'korean', 'kayokyoku',\n",
       "       'karaoke', 'karadeniz', 'k-pop', 'jungle', 'jpop', 'jewish',\n",
       "       'jazz', 'japanese', 'jam', 'irish', 'international',\n",
       "       'instrumental', 'inspirational', 'industrial', 'indipop', 'indie',\n",
       "       'indian', 'independent', 'idm', 'hymn', 'house', 'horror',\n",
       "       'holiday', 'historisch', 'hiphop', 'hardtechno', 'hardstyle',\n",
       "       'hardcore', \"hard'n'heavy\", 'handsup', 'gypsy', 'grunge', 'grime',\n",
       "       'gothic', 'gospel', 'glitch', 'gitarre', 'ghazal', 'german',\n",
       "       'garage', 'gangsta', 'future', 'funk', 'french', 'französisch',\n",
       "       'frankreich', 'forró', 'folktronica', 'folkrock', 'folkmetal',\n",
       "       'folklore', 'folk', 'flamenco', 'fitness', 'film', 'fairytail',\n",
       "       'fado', 'extrememetal', 'experimental', 'european', 'eurofolk',\n",
       "       'ethnic', 'estrada', 'epicmetal', 'entehno', 'emo', 'electropop',\n",
       "       'electronic', 'easy', 'eastern', 'dubstep', 'dub', 'drum',\n",
       "       'downtempo', 'downbeat', 'documentary', 'dnb', 'disco', 'dirty',\n",
       "       'deutschspr', 'deutschrock', 'deep', 'death', 'dark', 'dancepop',\n",
       "       'dancehall', 'dance', 'cuban', 'country', 'contemporary',\n",
       "       'conjazz', 'comedy', 'colombian', 'club', 'classicmetal',\n",
       "       'classical', 'christmas', 'christian', 'choral', 'chinese',\n",
       "       'chill', 'children', 'chanson', 'chamber', 'celtic', 'caucasian',\n",
       "       'caribbean', 'canzone', 'cantopop', 'cantautori', 'broadway',\n",
       "       'breaks', 'breakbeat', 'brazilian', 'bossa', 'bollywood', 'blues',\n",
       "       'bluegrass', 'black', 'bigroom', 'beats', 'balkan', 'baile', 'axé',\n",
       "       'avantgarde', 'author', 'audiobook', 'art', 'argentinetango',\n",
       "       'arena', 'arabic', 'arabesk', 'anime', 'animated', 'americana',\n",
       "       'ambient', 'alternativepunk', 'alternative', 'afrikaans', 'africa',\n",
       "       'adult', 'action', 'acoustic', 'acid'], dtype=object)"
      ]
     },
     "execution_count": 48,
     "metadata": {},
     "output_type": "execute_result"
    }
   ],
   "source": [
    "df['genre'].sort_values(ascending=False).unique()# Проверка на неявные дубликаты"
   ]
  },
  {
   "cell_type": "markdown",
   "metadata": {
    "id": "jz6a9-7HQUDd"
   },
   "source": [
    "**Выводы**\n",
    "\n",
    "Предобработка обнаружила три проблемы в данных:\n",
    "\n",
    "- нарушения в стиле заголовков,\n",
    "- пропущенные значения,\n",
    "- дубликаты — явные и неявные.\n",
    "\n",
    "Исправили заголовки, чтобы упростить работу с таблицей. Без дубликатов исследование станет более точным.\n",
    "\n",
    "Пропущенные значения вы заменили на `'unknown'`. Ещё предстоит увидеть, не повредят ли исследованию пропуски в колонке `genre`.\n",
    "\n",
    "Теперь можно перейти к проверке гипотез. "
   ]
  },
  {
   "cell_type": "markdown",
   "metadata": {
    "id": "WttZHXH0SqKk"
   },
   "source": [
    "## Проверка гипотез"
   ]
  },
  {
   "cell_type": "markdown",
   "metadata": {
    "id": "Im936VVi_Zcu"
   },
   "source": [
    "### Сравнение поведения пользователей двух столиц"
   ]
  },
  {
   "cell_type": "markdown",
   "metadata": {
    "id": "nwt_MuaL_Zcu"
   },
   "source": [
    "Первая гипотеза утверждает, что пользователи по-разному слушают музыку в Москве и Санкт-Петербурге. Проверьте это предположение по данным о трёх днях недели — понедельнике, среде и пятнице. Для этого:\n",
    "\n",
    "* Разделим пользователей Москвы и Санкт-Петербурга\n",
    "* Сравним, сколько треков послушала каждая группа пользователей в понедельник, среду и пятницу.\n"
   ]
  },
  {
   "cell_type": "code",
   "execution_count": 50,
   "metadata": {
    "id": "0_Qs96oh_Zcu"
   },
   "outputs": [
    {
     "data": {
      "text/plain": [
       "city\n",
       "Moscow              42741\n",
       "Saint-Petersburg    18512\n",
       "Name: track, dtype: int64"
      ]
     },
     "metadata": {},
     "output_type": "display_data"
    }
   ],
   "source": [
    "df_city = df.groupby('city')['track'].count()# Подсчёт прослушиваний в каждом городе\n",
    "display(df_city)"
   ]
  },
  {
   "cell_type": "markdown",
   "metadata": {
    "id": "dzli3w8o_Zcu"
   },
   "source": [
    "В Москве прослушиваний больше, чем в Петербурге. Из этого не следует, что московские пользователи чаще слушают музыку. Просто самих пользователей в Москве больше.\n",
    "\n",
    "Теперь сгруппируем данные по дню недели и подсчитайте прослушивания в понедельник, среду и пятницу. Учтите, что в данных есть информация только о прослушиваниях только за эти дни.\n"
   ]
  },
  {
   "cell_type": "code",
   "execution_count": 52,
   "metadata": {
    "id": "uZMKjiJz_Zcu"
   },
   "outputs": [
    {
     "data": {
      "text/plain": [
       "day\n",
       "Friday       21840\n",
       "Monday       21354\n",
       "Wednesday    18059\n",
       "Name: user_id, dtype: int64"
      ]
     },
     "metadata": {},
     "output_type": "display_data"
    }
   ],
   "source": [
    "df_day = df.groupby('day')['user_id'].count()# Подсчёт прослушиваний в каждый из трёх дней\n",
    "display(df_day)"
   ]
  },
  {
   "cell_type": "markdown",
   "metadata": {
    "id": "cC2tNrlL_Zcu"
   },
   "source": [
    "В среднем пользователи из двух городов менее активны по средам. Но картина может измениться, если рассмотреть каждый город в отдельности."
   ]
  },
  {
   "cell_type": "markdown",
   "metadata": {
    "id": "POzs8bGa_Zcu"
   },
   "source": [
    "Мы видели, как работает группировка по городу и по дням недели. Теперь напишите функцию, которая объединит два эти расчёта.\n",
    "\n",
    "Создадим функцию `number_tracks()`, которая посчитает прослушивания для заданного дня и города. Ей понадобятся два параметра:\n",
    "* день недели,\n",
    "* название города.\n",
    "\n",
    "В функции сохраним в переменную строки исходной таблицы, у которых значение:\n",
    "  * в колонке `day` равно параметру `day`,\n",
    "  * в колонке `city` равно параметру `city`.\n",
    "\n",
    "Для этого применим последовательную фильтрацию с логической индексацией.\n",
    "\n",
    "Затем посчитайте значения в столбце `user_id` получившейся таблицы. Результат сохраните в новую переменную. Верните эту переменную из функции."
   ]
  },
  {
   "cell_type": "code",
   "execution_count": 53,
   "metadata": {
    "id": "Nz3GdQB1_Zcu"
   },
   "outputs": [],
   "source": [
    "def number_tracks(day, city): # <создание функции number_tracks()>\n",
    "    track_list = df[(df['city'] == city)&(df['day'] == day)]\n",
    "    track_list_count = track_list['user_id'].count()\n",
    "    return track_list_count\n",
    "# Функция для подсчёта прослушиваний для конкретного города и дня.\n",
    "# С помощью последовательной фильтрации с логической индексацией она \n",
    "# сначала получит из исходной таблицы строки с нужным днём,\n",
    "# затем из результата отфильтрует строки с нужным городом,\n",
    "# методом count() посчитает количество значений в колонке user_id. \n",
    "# Это количество функция вернёт в качестве результата"
   ]
  },
  {
   "cell_type": "code",
   "execution_count": 54,
   "metadata": {
    "id": "rJcRATNQ_Zcu"
   },
   "outputs": [
    {
     "data": {
      "text/plain": [
       "15740"
      ]
     },
     "execution_count": 54,
     "metadata": {},
     "output_type": "execute_result"
    }
   ],
   "source": [
    "number_tracks('Monday', 'Moscow')# количество прослушиваний в Москве по понедельникам"
   ]
  },
  {
   "cell_type": "code",
   "execution_count": 55,
   "metadata": {
    "id": "hq_ncZ5T_Zcu"
   },
   "outputs": [
    {
     "data": {
      "text/plain": [
       "5614"
      ]
     },
     "execution_count": 55,
     "metadata": {},
     "output_type": "execute_result"
    }
   ],
   "source": [
    "number_tracks('Monday', 'Saint-Petersburg')# количество прослушиваний в Санкт-Петербурге по понедельникам"
   ]
  },
  {
   "cell_type": "code",
   "execution_count": 56,
   "metadata": {
    "id": "_NTy2VPU_Zcu"
   },
   "outputs": [
    {
     "data": {
      "text/plain": [
       "11056"
      ]
     },
     "execution_count": 56,
     "metadata": {},
     "output_type": "execute_result"
    }
   ],
   "source": [
    "number_tracks('Wednesday', 'Moscow')# количество прослушиваний в Москве по средам"
   ]
  },
  {
   "cell_type": "code",
   "execution_count": 57,
   "metadata": {
    "id": "j2y3TAwo_Zcu"
   },
   "outputs": [
    {
     "data": {
      "text/plain": [
       "7003"
      ]
     },
     "execution_count": 57,
     "metadata": {},
     "output_type": "execute_result"
    }
   ],
   "source": [
    "number_tracks('Wednesday', 'Saint-Petersburg')# количество прослушиваний в Санкт-Петербурге по средам"
   ]
  },
  {
   "cell_type": "code",
   "execution_count": 58,
   "metadata": {
    "id": "vYDw5u_K_Zcu"
   },
   "outputs": [
    {
     "data": {
      "text/plain": [
       "15945"
      ]
     },
     "execution_count": 58,
     "metadata": {},
     "output_type": "execute_result"
    }
   ],
   "source": [
    "number_tracks('Friday', 'Moscow')# количество прослушиваний в Москве по пятницам"
   ]
  },
  {
   "cell_type": "code",
   "execution_count": 59,
   "metadata": {
    "id": "8_yzFtW3_Zcu"
   },
   "outputs": [
    {
     "data": {
      "text/plain": [
       "5895"
      ]
     },
     "execution_count": 59,
     "metadata": {},
     "output_type": "execute_result"
    }
   ],
   "source": [
    "number_tracks('Friday', 'Saint-Petersburg')# количество прослушиваний в Санкт-Петербурге по пятницам"
   ]
  },
  {
   "cell_type": "markdown",
   "metadata": {
    "id": "7QXffbO-_Zcu"
   },
   "source": [
    "Создадим c помощью конструктора `pd.DataFrame` таблицу, где\n",
    "* названия колонок — `['city', 'monday', 'wednesday', 'friday']`;\n",
    "* данные — результаты, которые вы получили с помощью `number_tracks`."
   ]
  },
  {
   "cell_type": "code",
   "execution_count": 60,
   "metadata": {
    "id": "APAcLpOr_Zcu"
   },
   "outputs": [
    {
     "data": {
      "text/html": [
       "<div>\n",
       "<style scoped>\n",
       "    .dataframe tbody tr th:only-of-type {\n",
       "        vertical-align: middle;\n",
       "    }\n",
       "\n",
       "    .dataframe tbody tr th {\n",
       "        vertical-align: top;\n",
       "    }\n",
       "\n",
       "    .dataframe thead th {\n",
       "        text-align: right;\n",
       "    }\n",
       "</style>\n",
       "<table border=\"1\" class=\"dataframe\">\n",
       "  <thead>\n",
       "    <tr style=\"text-align: right;\">\n",
       "      <th></th>\n",
       "      <th>city</th>\n",
       "      <th>monday</th>\n",
       "      <th>wednesday</th>\n",
       "      <th>friday</th>\n",
       "    </tr>\n",
       "  </thead>\n",
       "  <tbody>\n",
       "    <tr>\n",
       "      <th>0</th>\n",
       "      <td>Moscow</td>\n",
       "      <td>15740</td>\n",
       "      <td>11056</td>\n",
       "      <td>15945</td>\n",
       "    </tr>\n",
       "    <tr>\n",
       "      <th>1</th>\n",
       "      <td>Saint-Petersburg</td>\n",
       "      <td>5614</td>\n",
       "      <td>7003</td>\n",
       "      <td>5895</td>\n",
       "    </tr>\n",
       "  </tbody>\n",
       "</table>\n",
       "</div>"
      ],
      "text/plain": [
       "               city  monday  wednesday  friday\n",
       "0            Moscow   15740      11056   15945\n",
       "1  Saint-Petersburg    5614       7003    5895"
      ]
     },
     "metadata": {},
     "output_type": "display_data"
    }
   ],
   "source": [
    "table_msc_spb = pd.DataFrame(data=[['Moscow', 15740, 11056, 15945], ['Saint-Petersburg', 5614, 7003, 5895]], columns=['city', 'monday', 'wednesday', 'friday'])# Таблица с результатами\n",
    "display(table_msc_spb)"
   ]
  },
  {
   "cell_type": "markdown",
   "metadata": {
    "id": "-EgPIHYu_Zcu"
   },
   "source": [
    "**Выводы**\n",
    "\n",
    "Данные показывают разницу поведения пользователей:\n",
    "\n",
    "- В Москве пик прослушиваний приходится на понедельник и пятницу, а в среду заметен спад.\n",
    "- В Петербурге, наоборот, больше слушают музыку по средам. Активность в понедельник и пятницу здесь почти в равной мере уступает среде.\n",
    "\n",
    "Значит, данные говорят в пользу первой гипотезы."
   ]
  },
  {
   "cell_type": "markdown",
   "metadata": {
    "id": "atZAxtq4_Zcu"
   },
   "source": [
    "### Музыка в начале и в конце недели"
   ]
  },
  {
   "cell_type": "markdown",
   "metadata": {
    "id": "eXrQqXFH_Zcu"
   },
   "source": [
    "Согласно второй гипотезе, утром в понедельник в Москве преобладают одни жанры, а в Петербурге — другие. Так же и вечером пятницы преобладают разные жанры — в зависимости от города."
   ]
  },
  {
   "cell_type": "markdown",
   "metadata": {
    "id": "S8UcW6Hw_Zcu"
   },
   "source": [
    "Сохраним таблицы с данными в две переменные:\n",
    "* по Москве — в `moscow_general`;\n",
    "* по Санкт-Петербургу — в `spb_general`."
   ]
  },
  {
   "cell_type": "code",
   "execution_count": 61,
   "metadata": {
    "id": "qeaFfM_P_Zcu"
   },
   "outputs": [],
   "source": [
    "# получение таблицы moscow_general из тех строк таблицы df, \n",
    "# для которых значение в столбце 'city' равно 'Moscow'\n",
    "moscow_general = df[df['city'] == 'Moscow']"
   ]
  },
  {
   "cell_type": "code",
   "execution_count": 62,
   "metadata": {
    "id": "ORaVRKto_Zcu"
   },
   "outputs": [],
   "source": [
    "# получение таблицы spb_general из тех строк таблицы df,\n",
    "# для которых значение в столбце 'city' равно 'Saint-Petersburg'\n",
    "spb_general = df[df['city'] == 'Saint-Petersburg']"
   ]
  },
  {
   "cell_type": "markdown",
   "metadata": {
    "id": "MEJV-CX2_Zcu"
   },
   "source": [
    "Создадим функцию `genre_weekday()` с четырьмя параметрами:\n",
    "* таблица (датафрейм) с данными,\n",
    "* день недели,\n",
    "* начальная временная метка в формате 'hh:mm', \n",
    "* последняя временная метка в формате 'hh:mm'.\n",
    "\n",
    "Функция должна вернуть информацию о топ-10 жанров тех треков, которые прослушивали в указанный день, в промежутке между двумя отметками времени."
   ]
  },
  {
   "cell_type": "code",
   "execution_count": 70,
   "metadata": {
    "id": "laJT9BYl_Zcu"
   },
   "outputs": [],
   "source": [
    "# Объявление функции genre_weekday() с параметрами table, day, time1, time2,\n",
    "# которая возвращает информацию о самых популярных жанрах в указанный день в\n",
    "# заданное время:\n",
    "def genre_weekday(table, day, time1, time2):\n",
    "    genre_df = table[(table['day'] == day)&(table['time'] > time1)&(table['time'] < time2)]\n",
    "    genre_df_count = genre_df.groupby('genre')['genre'].count()\n",
    "    genre_df_sorted = genre_df_count.sort_values(ascending = False)\n",
    "    return genre_df_sorted.head(10)\n",
    "# 1) в переменную genre_df сохраняются те строки переданного датафрейма table, для\n",
    "#    которых одновременно:\n",
    "#    - значение в столбце day равно значению аргумента day\n",
    "#    - значение в столбце time больше значения аргумента time1\n",
    "#    - значение в столбце time меньше значения аргумента time2\n",
    "#    Используйте последовательную фильтрацию с помощью логической индексации.\n",
    "# 2) сгруппировать датафрейм genre_df по столбцу genre, взять один из его\n",
    "#    столбцов и посчитать методом count() количество записей для каждого из\n",
    "#    присутствующих жанров, получившийся Series записать в переменную\n",
    "#    genre_df_count\n",
    "# 3) отсортировать genre_df_count по убыванию встречаемости и сохранить\n",
    "#    в переменную genre_df_sorted\n",
    "# 4) вернуть Series из 10 первых значений genre_df_sorted, это будут топ-10\n",
    "#    популярных жанров (в указанный день, в заданное время)"
   ]
  },
  {
   "cell_type": "markdown",
   "metadata": {
    "id": "la2s2_PF_Zcu"
   },
   "source": [
    "Cравним результаты функции `genre_weekday()` для Москвы и Санкт-Петербурга в понедельник утром (с 7:00 до 11:00) и в пятницу вечером (с 17:00 до 23:00):"
   ]
  },
  {
   "cell_type": "code",
   "execution_count": 71,
   "metadata": {
    "id": "yz7itPUQ_Zcu"
   },
   "outputs": [
    {
     "data": {
      "text/plain": [
       "genre\n",
       "pop            781\n",
       "dance          549\n",
       "electronic     480\n",
       "rock           474\n",
       "hiphop         286\n",
       "ruspop         186\n",
       "world          181\n",
       "rusrap         175\n",
       "alternative    164\n",
       "unknown        161\n",
       "Name: genre, dtype: int64"
      ]
     },
     "execution_count": 71,
     "metadata": {},
     "output_type": "execute_result"
    }
   ],
   "source": [
    "# вызов функции для утра понедельника в Москве (вместо df — таблица moscow_general)\n",
    "# объекты, хранящие время, являются строками и сравниваются как строки\n",
    "# пример вызова: genre_weekday(moscow_general, 'Monday', '07:00', '11:00')\n",
    "genre_weekday(moscow_general, 'Monday', '07:00', '11:00')"
   ]
  },
  {
   "cell_type": "code",
   "execution_count": 72,
   "metadata": {
    "id": "kwUcHPdy_Zcu"
   },
   "outputs": [
    {
     "data": {
      "text/plain": [
       "genre\n",
       "pop            218\n",
       "dance          182\n",
       "rock           162\n",
       "electronic     147\n",
       "hiphop          80\n",
       "ruspop          64\n",
       "alternative     58\n",
       "rusrap          55\n",
       "jazz            44\n",
       "classical       40\n",
       "Name: genre, dtype: int64"
      ]
     },
     "execution_count": 72,
     "metadata": {},
     "output_type": "execute_result"
    }
   ],
   "source": [
    "genre_weekday(spb_general, 'Monday', '07:00', '11:00')# вызов функции для утра понедельника в Петербурге (вместо df — таблица spb_general)"
   ]
  },
  {
   "cell_type": "code",
   "execution_count": 73,
   "metadata": {
    "id": "EzXVRE1o_Zcu"
   },
   "outputs": [
    {
     "data": {
      "text/plain": [
       "genre\n",
       "pop            713\n",
       "rock           517\n",
       "dance          495\n",
       "electronic     482\n",
       "hiphop         273\n",
       "world          208\n",
       "ruspop         170\n",
       "alternative    163\n",
       "classical      163\n",
       "rusrap         142\n",
       "Name: genre, dtype: int64"
      ]
     },
     "execution_count": 73,
     "metadata": {},
     "output_type": "execute_result"
    }
   ],
   "source": [
    "genre_weekday(moscow_general, 'Friday', '17:00', '23:00')# вызов функции для вечера пятницы в Москве"
   ]
  },
  {
   "cell_type": "code",
   "execution_count": 74,
   "metadata": {
    "id": "JZaEKu5v_Zcu"
   },
   "outputs": [
    {
     "data": {
      "text/plain": [
       "genre\n",
       "pop            256\n",
       "electronic     216\n",
       "rock           216\n",
       "dance          210\n",
       "hiphop          97\n",
       "alternative     63\n",
       "jazz            61\n",
       "classical       60\n",
       "rusrap          59\n",
       "world           54\n",
       "Name: genre, dtype: int64"
      ]
     },
     "execution_count": 74,
     "metadata": {},
     "output_type": "execute_result"
    }
   ],
   "source": [
    "genre_weekday(spb_general, 'Friday', '17:00', '23:00')# вызов функции для вечера пятницы в Петербурге"
   ]
  },
  {
   "cell_type": "markdown",
   "metadata": {
    "id": "wrCe4MNX_Zcu"
   },
   "source": [
    "**Выводы**\n",
    "\n",
    "Если сравнить топ-10 жанров в понедельник утром, можно сделать такие выводы:\n",
    "\n",
    "1. В Москве и Петербурге слушают похожую музыку. Единственное отличие — в московский рейтинг вошёл жанр “world”, а в петербургский — джаз и классика.\n",
    "\n",
    "2. В Москве пропущенных значений оказалось так много, что значение `'unknown'` заняло десятое место среди самых популярных жанров. Значит, пропущенные значения занимают существенную долю в данных и угрожают достоверности исследования.\n",
    "\n",
    "Вечер пятницы не меняет эту картину. Некоторые жанры поднимаются немного выше, другие спускаются, но в целом топ-10 остаётся тем же самым.\n",
    "\n",
    "Таким образом, вторая гипотеза подтвердилась лишь частично:\n",
    "* Пользователи слушают похожую музыку в начале недели и в конце.\n",
    "* Разница между Москвой и Петербургом не слишком выражена. В Москве чаще слушают русскую популярную музыку, в Петербурге — джаз.\n",
    "\n",
    "Однако пропуски в данных ставят под сомнение этот результат. В Москве их так много, что рейтинг топ-10 мог бы выглядеть иначе, если бы не утерянные  данные о жанрах."
   ]
  },
  {
   "cell_type": "markdown",
   "metadata": {
    "id": "JolODAqr_Zcu"
   },
   "source": [
    "### Жанровые предпочтения в Москве и Петербурге\n",
    "\n",
    "Гипотеза: Петербург — столица рэпа, музыку этого жанра там слушают чаще, чем в Москве.  А Москва — город контрастов, в котором, тем не менее, преобладает поп-музыка."
   ]
  },
  {
   "cell_type": "markdown",
   "metadata": {
    "id": "DlegSvaT_Zcu"
   },
   "source": [
    "Сгруппируем таблицу `moscow_general` по жанру и посчитаем прослушивания треков каждого жанра методом `count()`. Затем отсортируем результат в порядке убывания и сохраним его в таблице `moscow_genres`."
   ]
  },
  {
   "cell_type": "code",
   "execution_count": 75,
   "metadata": {
    "id": "r19lIPke_Zcu"
   },
   "outputs": [],
   "source": [
    "# одной строкой: группировка таблицы moscow_general по столбцу 'genre', \n",
    "moscow_genres = moscow_general.groupby('genre')['genre'].count().sort_values(ascending=False)\n",
    "\n",
    "# подсчёт числа значений 'genre' в этой группировке методом count(), \n",
    "# сортировка получившегося Series в порядке убывания и сохранение в moscow_genres"
   ]
  },
  {
   "cell_type": "markdown",
   "metadata": {
    "id": "6kMuomxTiIr8"
   },
   "source": [
    "Выведим на экран первые десять строк `moscow_genres`:"
   ]
  },
  {
   "cell_type": "code",
   "execution_count": 76,
   "metadata": {
    "id": "WhCSooF8_Zcv"
   },
   "outputs": [
    {
     "data": {
      "text/plain": [
       "genre\n",
       "pop            5892\n",
       "dance          4435\n",
       "rock           3965\n",
       "electronic     3786\n",
       "hiphop         2096\n",
       "classical      1616\n",
       "world          1432\n",
       "alternative    1379\n",
       "ruspop         1372\n",
       "rusrap         1161\n",
       "Name: genre, dtype: int64"
      ]
     },
     "execution_count": 76,
     "metadata": {},
     "output_type": "execute_result"
    }
   ],
   "source": [
    "moscow_genres.head(10)# просмотр первых 10 строк moscow_genres"
   ]
  },
  {
   "cell_type": "markdown",
   "metadata": {
    "id": "cnPG2vnN_Zcv"
   },
   "source": [
    "Теперь повторим то же и для Петербурга.\n",
    "\n",
    "Сгруппируем таблицу `spb_general` по жанру. Посчитаем прослушивания треков каждого жанра. Результат отсортируем в порядке убывания и сохраните в таблице `spb_genres`:\n"
   ]
  },
  {
   "cell_type": "code",
   "execution_count": 77,
   "metadata": {
    "id": "gluLIpE7_Zcv"
   },
   "outputs": [],
   "source": [
    "# одной строкой: группировка таблицы spb_general по столбцу 'genre', \n",
    "# подсчёт числа значений 'genre' в этой группировке методом count(), \n",
    "# сортировка получившегося Series в порядке убывания и сохранение в spb_genres\n",
    "spb_genres = spb_general.groupby('genre')['genre'].count().sort_values(ascending=False)"
   ]
  },
  {
   "cell_type": "markdown",
   "metadata": {
    "id": "5Doha_ODgyQ8"
   },
   "source": [
    "Выведим на экран первые десять строк `spb_genres`:"
   ]
  },
  {
   "cell_type": "code",
   "execution_count": 78,
   "metadata": {
    "id": "uaGJHjVU_Zcv"
   },
   "outputs": [
    {
     "data": {
      "text/plain": [
       "genre\n",
       "pop           2431\n",
       "dance         1932\n",
       "rock          1879\n",
       "electronic    1737\n",
       "hiphop         960\n",
       "Name: genre, dtype: int64"
      ]
     },
     "execution_count": 78,
     "metadata": {},
     "output_type": "execute_result"
    }
   ],
   "source": [
    "# просмотр первых 10 строк spb_genres\n",
    "spb_genres.head()"
   ]
  },
  {
   "cell_type": "markdown",
   "metadata": {
    "id": "RY51YJYu_Zcv"
   },
   "source": [
    "**Выводы**"
   ]
  },
  {
   "cell_type": "markdown",
   "metadata": {
    "id": "nVhnJEm__Zcv"
   },
   "source": [
    "Гипотеза частично подтвердилась:\n",
    "* Поп-музыка — самый популярный жанр в Москве, как и предполагала гипотеза. Более того, в топ-10 жанров встречается близкий жанр — русская популярная музыка.\n",
    "* Вопреки ожиданиям, рэп одинаково популярен в Москве и Петербурге. \n"
   ]
  },
  {
   "cell_type": "markdown",
   "metadata": {
    "id": "ykKQ0N65_Zcv"
   },
   "source": [
    "## Итоги исследования"
   ]
  },
  {
   "cell_type": "markdown",
   "metadata": {
    "id": "tjUwbHb3_Zcv"
   },
   "source": [
    "Проверено три гипотезы и установили:\n",
    "\n",
    "1. День недели по-разному влияет на активность пользователей в Москве и Петербурге. \n",
    "\n",
    "Первая гипотеза полностью подтвердилась.\n",
    "\n",
    "2. Музыкальные предпочтения не сильно меняются в течение недели — будь то Москва или Петербург. Небольшие различия заметны в начале недели, по понедельникам:\n",
    "* в Москве слушают музыку жанра “world”,\n",
    "* в Петербурге — джаз и классику.\n",
    "\n",
    "Таким образом, вторая гипотеза подтвердилась лишь отчасти. Этот результат мог оказаться иным, если бы не пропуски в данных.\n",
    "\n",
    "3. Во вкусах пользователей Москвы и Петербурга больше общего чем различий. Вопреки ожиданиям, предпочтения жанров в Петербурге напоминают московские.\n",
    "\n",
    "Третья гипотеза не подтвердилась. Если различия в предпочтениях и существуют, на основной массе пользователей они незаметны.\n",
    "\n"
   ]
  }
 ],
 "metadata": {
  "ExecuteTimeLog": [
   {
    "duration": 301,
    "start_time": "2021-12-14T05:13:27.545Z"
   },
   {
    "duration": 294,
    "start_time": "2021-12-14T05:13:41.785Z"
   },
   {
    "duration": 243,
    "start_time": "2021-12-14T05:15:30.371Z"
   },
   {
    "duration": 711,
    "start_time": "2021-12-14T05:17:24.468Z"
   },
   {
    "duration": 4,
    "start_time": "2021-12-14T05:17:28.666Z"
   },
   {
    "duration": 280,
    "start_time": "2021-12-14T05:17:32.646Z"
   },
   {
    "duration": 210,
    "start_time": "2021-12-14T05:17:42.914Z"
   },
   {
    "duration": 26,
    "start_time": "2021-12-14T05:17:49.469Z"
   },
   {
    "duration": 14,
    "start_time": "2021-12-14T05:18:18.398Z"
   },
   {
    "duration": 6,
    "start_time": "2021-12-14T05:24:13.013Z"
   },
   {
    "duration": 27,
    "start_time": "2021-12-14T05:28:01.312Z"
   },
   {
    "duration": 6,
    "start_time": "2021-12-14T05:28:14.049Z"
   },
   {
    "duration": 32,
    "start_time": "2021-12-14T05:34:52.535Z"
   },
   {
    "duration": 23,
    "start_time": "2021-12-14T05:52:17.697Z"
   },
   {
    "duration": 22,
    "start_time": "2021-12-14T05:52:21.939Z"
   },
   {
    "duration": 31,
    "start_time": "2021-12-14T05:52:35.689Z"
   },
   {
    "duration": 244,
    "start_time": "2021-12-14T05:53:13.644Z"
   },
   {
    "duration": 243,
    "start_time": "2021-12-14T05:53:25.048Z"
   },
   {
    "duration": 87,
    "start_time": "2021-12-14T05:53:33.203Z"
   },
   {
    "duration": 109,
    "start_time": "2021-12-14T05:54:35.781Z"
   },
   {
    "duration": 81,
    "start_time": "2021-12-14T05:55:02.003Z"
   },
   {
    "duration": 86,
    "start_time": "2021-12-14T05:56:00.314Z"
   },
   {
    "duration": 100,
    "start_time": "2021-12-14T05:56:49.705Z"
   },
   {
    "duration": 80,
    "start_time": "2021-12-14T05:56:55.532Z"
   },
   {
    "duration": 64,
    "start_time": "2021-12-15T04:32:17.785Z"
   },
   {
    "duration": 218,
    "start_time": "2021-12-15T04:32:26.658Z"
   },
   {
    "duration": 502,
    "start_time": "2021-12-15T04:32:37.649Z"
   },
   {
    "duration": 137,
    "start_time": "2021-12-15T04:32:40.750Z"
   },
   {
    "duration": 17,
    "start_time": "2021-12-15T04:32:44.624Z"
   },
   {
    "duration": 8,
    "start_time": "2021-12-15T04:32:49.239Z"
   },
   {
    "duration": 4,
    "start_time": "2021-12-15T04:32:53.899Z"
   },
   {
    "duration": 23,
    "start_time": "2021-12-15T04:33:01.024Z"
   },
   {
    "duration": 5,
    "start_time": "2021-12-15T04:33:04.198Z"
   },
   {
    "duration": 24,
    "start_time": "2021-12-15T04:33:09.631Z"
   },
   {
    "duration": 20,
    "start_time": "2021-12-15T04:33:15.310Z"
   },
   {
    "duration": 24,
    "start_time": "2021-12-15T04:33:18.905Z"
   },
   {
    "duration": 59,
    "start_time": "2021-12-15T04:33:22.515Z"
   },
   {
    "duration": 70,
    "start_time": "2021-12-15T04:33:24.678Z"
   },
   {
    "duration": 53,
    "start_time": "2021-12-15T04:33:26.864Z"
   },
   {
    "duration": 7,
    "start_time": "2021-12-15T04:33:31.538Z"
   },
   {
    "duration": 232,
    "start_time": "2021-12-15T04:34:53.200Z"
   },
   {
    "duration": 40,
    "start_time": "2021-12-15T04:35:30.106Z"
   },
   {
    "duration": 3,
    "start_time": "2021-12-15T04:48:00.019Z"
   },
   {
    "duration": 12,
    "start_time": "2021-12-15T04:48:02.853Z"
   },
   {
    "duration": 40,
    "start_time": "2021-12-15T04:48:08.621Z"
   },
   {
    "duration": 11,
    "start_time": "2021-12-15T05:09:19.113Z"
   },
   {
    "duration": 12,
    "start_time": "2021-12-15T05:10:02.611Z"
   },
   {
    "duration": 33,
    "start_time": "2021-12-15T05:12:09.076Z"
   },
   {
    "duration": 12,
    "start_time": "2021-12-15T05:12:35.026Z"
   },
   {
    "duration": 26,
    "start_time": "2021-12-15T05:13:44.888Z"
   },
   {
    "duration": 33,
    "start_time": "2021-12-15T05:14:14.239Z"
   },
   {
    "duration": 27,
    "start_time": "2021-12-15T05:16:53.741Z"
   },
   {
    "duration": 3,
    "start_time": "2021-12-15T05:43:15.914Z"
   },
   {
    "duration": 60,
    "start_time": "2021-12-15T05:44:26.299Z"
   },
   {
    "duration": 17,
    "start_time": "2021-12-15T05:44:50.392Z"
   },
   {
    "duration": 14,
    "start_time": "2021-12-15T05:45:40.896Z"
   },
   {
    "duration": 18,
    "start_time": "2021-12-15T05:46:15.163Z"
   },
   {
    "duration": 18,
    "start_time": "2021-12-15T05:46:56.968Z"
   },
   {
    "duration": 15,
    "start_time": "2021-12-15T05:47:00.673Z"
   },
   {
    "duration": 15,
    "start_time": "2021-12-15T05:47:02.977Z"
   },
   {
    "duration": 175,
    "start_time": "2021-12-15T05:48:54.150Z"
   },
   {
    "duration": 4,
    "start_time": "2021-12-15T05:52:50.390Z"
   },
   {
    "duration": 8,
    "start_time": "2021-12-15T05:53:10.441Z"
   },
   {
    "duration": 6,
    "start_time": "2021-12-15T15:36:40.395Z"
   },
   {
    "duration": 288,
    "start_time": "2021-12-15T15:38:52.473Z"
   },
   {
    "duration": 225,
    "start_time": "2021-12-15T15:39:03.206Z"
   },
   {
    "duration": 737,
    "start_time": "2021-12-15T15:39:11.242Z"
   },
   {
    "duration": 189,
    "start_time": "2021-12-15T15:39:13.998Z"
   },
   {
    "duration": 26,
    "start_time": "2021-12-15T15:39:15.850Z"
   },
   {
    "duration": 12,
    "start_time": "2021-12-15T15:39:19.071Z"
   },
   {
    "duration": 6,
    "start_time": "2021-12-15T15:39:22.151Z"
   },
   {
    "duration": 27,
    "start_time": "2021-12-15T15:39:26.002Z"
   },
   {
    "duration": 5,
    "start_time": "2021-12-15T15:39:27.386Z"
   },
   {
    "duration": 30,
    "start_time": "2021-12-15T15:39:29.977Z"
   },
   {
    "duration": 24,
    "start_time": "2021-12-15T15:39:32.449Z"
   },
   {
    "duration": 49,
    "start_time": "2021-12-15T15:39:33.723Z"
   },
   {
    "duration": 109,
    "start_time": "2021-12-15T15:39:35.778Z"
   },
   {
    "duration": 100,
    "start_time": "2021-12-15T15:39:37.407Z"
   },
   {
    "duration": 81,
    "start_time": "2021-12-15T15:39:38.809Z"
   },
   {
    "duration": 58,
    "start_time": "2021-12-15T15:39:41.154Z"
   },
   {
    "duration": 4,
    "start_time": "2021-12-15T15:39:51.574Z"
   },
   {
    "duration": 17,
    "start_time": "2021-12-15T15:39:53.178Z"
   },
   {
    "duration": 84,
    "start_time": "2021-12-15T15:39:55.138Z"
   },
   {
    "duration": 16,
    "start_time": "2021-12-15T15:40:00.178Z"
   },
   {
    "duration": 51,
    "start_time": "2021-12-15T15:40:01.981Z"
   },
   {
    "duration": 5,
    "start_time": "2021-12-15T15:40:04.187Z"
   },
   {
    "duration": 22,
    "start_time": "2021-12-15T15:40:09.322Z"
   },
   {
    "duration": 26,
    "start_time": "2021-12-15T15:40:10.766Z"
   },
   {
    "duration": 19,
    "start_time": "2021-12-15T15:40:12.269Z"
   },
   {
    "duration": 18,
    "start_time": "2021-12-15T15:40:13.554Z"
   },
   {
    "duration": 20,
    "start_time": "2021-12-15T15:40:14.818Z"
   },
   {
    "duration": 18,
    "start_time": "2021-12-15T15:40:16.165Z"
   },
   {
    "duration": 5,
    "start_time": "2021-12-15T15:40:18.642Z"
   },
   {
    "duration": 5971,
    "start_time": "2021-12-15T15:40:22.561Z"
   },
   {
    "duration": 14,
    "start_time": "2021-12-15T15:41:21.769Z"
   },
   {
    "duration": 5664,
    "start_time": "2021-12-15T15:41:24.744Z"
   },
   {
    "duration": 15,
    "start_time": "2021-12-15T15:41:32.910Z"
   },
   {
    "duration": 6,
    "start_time": "2021-12-15T15:41:38.866Z"
   },
   {
    "duration": 503,
    "start_time": "2021-12-15T15:41:45.915Z"
   },
   {
    "duration": 5,
    "start_time": "2021-12-15T15:42:15.153Z"
   },
   {
    "duration": 625,
    "start_time": "2021-12-15T15:42:17.150Z"
   },
   {
    "duration": 5,
    "start_time": "2021-12-15T15:58:16.279Z"
   },
   {
    "duration": 31,
    "start_time": "2021-12-15T15:58:18.382Z"
   },
   {
    "duration": 6,
    "start_time": "2021-12-15T15:59:17.507Z"
   },
   {
    "duration": 27,
    "start_time": "2021-12-15T15:59:20.385Z"
   },
   {
    "duration": 20,
    "start_time": "2021-12-15T15:59:36.784Z"
   },
   {
    "duration": 26,
    "start_time": "2021-12-15T15:59:43.640Z"
   },
   {
    "duration": 20,
    "start_time": "2021-12-15T15:59:46.269Z"
   },
   {
    "duration": 30,
    "start_time": "2021-12-15T16:02:35.188Z"
   },
   {
    "duration": 12,
    "start_time": "2021-12-15T16:02:37.550Z"
   },
   {
    "duration": 270,
    "start_time": "2021-12-15T16:04:52.642Z"
   },
   {
    "duration": 8,
    "start_time": "2021-12-15T16:05:10.802Z"
   },
   {
    "duration": 13,
    "start_time": "2021-12-15T16:05:12.869Z"
   },
   {
    "duration": 8,
    "start_time": "2021-12-15T16:05:56.313Z"
   },
   {
    "duration": 13,
    "start_time": "2021-12-15T16:05:58.055Z"
   },
   {
    "duration": 7,
    "start_time": "2021-12-15T16:06:05.344Z"
   },
   {
    "duration": 12,
    "start_time": "2021-12-15T16:06:42.334Z"
   },
   {
    "duration": -216,
    "start_time": "2021-12-15T16:08:39.571Z"
   },
   {
    "duration": 8,
    "start_time": "2021-12-15T16:08:50.294Z"
   },
   {
    "duration": 6,
    "start_time": "2021-12-15T16:08:51.991Z"
   },
   {
    "duration": 9,
    "start_time": "2021-12-15T16:08:55.784Z"
   },
   {
    "duration": 249,
    "start_time": "2021-12-15T16:10:44.134Z"
   },
   {
    "duration": 6605,
    "start_time": "2021-12-15T16:10:51.371Z"
   },
   {
    "duration": 7132,
    "start_time": "2021-12-15T16:11:11.328Z"
   },
   {
    "duration": 310,
    "start_time": "2021-12-15T16:37:56.795Z"
   },
   {
    "duration": 252,
    "start_time": "2021-12-15T16:40:11.273Z"
   },
   {
    "duration": 222,
    "start_time": "2021-12-15T16:42:46.624Z"
   },
   {
    "duration": 15,
    "start_time": "2021-12-15T16:43:23.682Z"
   },
   {
    "duration": 12,
    "start_time": "2021-12-15T16:43:29.233Z"
   },
   {
    "duration": 6,
    "start_time": "2021-12-15T16:43:33.946Z"
   },
   {
    "duration": 27,
    "start_time": "2021-12-15T16:44:01.320Z"
   },
   {
    "duration": 8,
    "start_time": "2021-12-15T16:45:21.680Z"
   },
   {
    "duration": 236,
    "start_time": "2021-12-15T16:45:23.425Z"
   },
   {
    "duration": 231,
    "start_time": "2021-12-15T16:45:28.532Z"
   },
   {
    "duration": 6,
    "start_time": "2021-12-15T16:45:36.767Z"
   },
   {
    "duration": 350,
    "start_time": "2021-12-16T04:48:15.417Z"
   },
   {
    "duration": 705,
    "start_time": "2021-12-16T04:48:28.009Z"
   },
   {
    "duration": 179,
    "start_time": "2021-12-16T04:48:28.716Z"
   },
   {
    "duration": 25,
    "start_time": "2021-12-16T04:48:28.898Z"
   },
   {
    "duration": 36,
    "start_time": "2021-12-16T04:48:28.926Z"
   },
   {
    "duration": 12,
    "start_time": "2021-12-16T04:48:28.965Z"
   },
   {
    "duration": 6,
    "start_time": "2021-12-16T04:48:28.979Z"
   },
   {
    "duration": 26,
    "start_time": "2021-12-16T04:48:28.987Z"
   },
   {
    "duration": 5,
    "start_time": "2021-12-16T04:48:29.017Z"
   },
   {
    "duration": 31,
    "start_time": "2021-12-16T04:48:29.061Z"
   },
   {
    "duration": 22,
    "start_time": "2021-12-16T04:48:29.095Z"
   },
   {
    "duration": 54,
    "start_time": "2021-12-16T04:48:29.119Z"
   },
   {
    "duration": 99,
    "start_time": "2021-12-16T04:48:29.175Z"
   },
   {
    "duration": 117,
    "start_time": "2021-12-16T04:48:29.277Z"
   },
   {
    "duration": 87,
    "start_time": "2021-12-16T04:48:29.397Z"
   },
   {
    "duration": 73,
    "start_time": "2021-12-16T04:48:29.487Z"
   },
   {
    "duration": 6,
    "start_time": "2021-12-16T04:48:29.563Z"
   },
   {
    "duration": 21,
    "start_time": "2021-12-16T04:48:29.571Z"
   },
   {
    "duration": 75,
    "start_time": "2021-12-16T04:48:29.595Z"
   },
   {
    "duration": 16,
    "start_time": "2021-12-16T04:48:29.673Z"
   },
   {
    "duration": 69,
    "start_time": "2021-12-16T04:48:29.692Z"
   },
   {
    "duration": 5,
    "start_time": "2021-12-16T04:48:29.764Z"
   },
   {
    "duration": 25,
    "start_time": "2021-12-16T04:48:29.772Z"
   },
   {
    "duration": 18,
    "start_time": "2021-12-16T04:48:29.804Z"
   },
   {
    "duration": 20,
    "start_time": "2021-12-16T04:48:29.859Z"
   },
   {
    "duration": 17,
    "start_time": "2021-12-16T04:48:29.881Z"
   },
   {
    "duration": 20,
    "start_time": "2021-12-16T04:48:29.900Z"
   },
   {
    "duration": 51,
    "start_time": "2021-12-16T04:48:29.922Z"
   },
   {
    "duration": 5,
    "start_time": "2021-12-16T04:48:29.975Z"
   },
   {
    "duration": 16,
    "start_time": "2021-12-16T04:48:29.983Z"
   },
   {
    "duration": 12,
    "start_time": "2021-12-16T04:48:30.001Z"
   },
   {
    "duration": 5,
    "start_time": "2021-12-16T04:48:30.016Z"
   },
   {
    "duration": 7340,
    "start_time": "2021-12-16T04:48:30.059Z"
   },
   {
    "duration": -207,
    "start_time": "2021-12-16T04:48:37.608Z"
   },
   {
    "duration": -207,
    "start_time": "2021-12-16T04:48:37.610Z"
   },
   {
    "duration": -208,
    "start_time": "2021-12-16T04:48:37.612Z"
   },
   {
    "duration": -209,
    "start_time": "2021-12-16T04:48:37.615Z"
   },
   {
    "duration": -211,
    "start_time": "2021-12-16T04:48:37.618Z"
   },
   {
    "duration": -211,
    "start_time": "2021-12-16T04:48:37.620Z"
   },
   {
    "duration": -211,
    "start_time": "2021-12-16T04:48:37.622Z"
   },
   {
    "duration": 331,
    "start_time": "2021-12-16T04:54:07.947Z"
   },
   {
    "duration": 6962,
    "start_time": "2021-12-16T04:54:17.443Z"
   },
   {
    "duration": 290,
    "start_time": "2021-12-16T04:55:25.572Z"
   },
   {
    "duration": 7888,
    "start_time": "2021-12-16T04:55:38.957Z"
   },
   {
    "duration": 27,
    "start_time": "2021-12-16T04:57:46.040Z"
   },
   {
    "duration": 31,
    "start_time": "2021-12-16T05:06:42.273Z"
   },
   {
    "duration": 40,
    "start_time": "2021-12-16T05:06:46.400Z"
   },
   {
    "duration": 14,
    "start_time": "2021-12-16T05:07:25.740Z"
   },
   {
    "duration": 37,
    "start_time": "2021-12-16T05:07:34.357Z"
   },
   {
    "duration": 32,
    "start_time": "2021-12-16T05:23:09.111Z"
   },
   {
    "duration": 12,
    "start_time": "2021-12-16T05:23:13.464Z"
   },
   {
    "duration": 18,
    "start_time": "2021-12-16T05:33:35.737Z"
   },
   {
    "duration": 42,
    "start_time": "2021-12-16T05:34:54.135Z"
   },
   {
    "duration": 13,
    "start_time": "2021-12-16T05:40:30.462Z"
   },
   {
    "duration": 5,
    "start_time": "2021-12-16T05:40:38.004Z"
   },
   {
    "duration": 734,
    "start_time": "2021-12-16T05:45:20.762Z"
   },
   {
    "duration": 180,
    "start_time": "2021-12-16T05:45:21.499Z"
   },
   {
    "duration": 26,
    "start_time": "2021-12-16T05:45:21.682Z"
   },
   {
    "duration": 15,
    "start_time": "2021-12-16T05:45:21.711Z"
   },
   {
    "duration": 12,
    "start_time": "2021-12-16T05:45:21.759Z"
   },
   {
    "duration": 6,
    "start_time": "2021-12-16T05:45:21.774Z"
   },
   {
    "duration": 26,
    "start_time": "2021-12-16T05:45:21.783Z"
   },
   {
    "duration": 6,
    "start_time": "2021-12-16T05:45:21.813Z"
   },
   {
    "duration": 32,
    "start_time": "2021-12-16T05:45:21.860Z"
   },
   {
    "duration": 23,
    "start_time": "2021-12-16T05:45:21.894Z"
   },
   {
    "duration": 45,
    "start_time": "2021-12-16T05:45:21.920Z"
   },
   {
    "duration": 96,
    "start_time": "2021-12-16T05:45:21.968Z"
   },
   {
    "duration": 102,
    "start_time": "2021-12-16T05:45:22.066Z"
   },
   {
    "duration": 76,
    "start_time": "2021-12-16T05:45:22.170Z"
   },
   {
    "duration": 58,
    "start_time": "2021-12-16T05:45:22.259Z"
   },
   {
    "duration": 4,
    "start_time": "2021-12-16T05:45:22.319Z"
   },
   {
    "duration": 42,
    "start_time": "2021-12-16T05:45:22.325Z"
   },
   {
    "duration": 56,
    "start_time": "2021-12-16T05:45:22.370Z"
   },
   {
    "duration": 33,
    "start_time": "2021-12-16T05:45:22.428Z"
   },
   {
    "duration": 37,
    "start_time": "2021-12-16T05:45:22.463Z"
   },
   {
    "duration": 4,
    "start_time": "2021-12-16T05:45:22.502Z"
   },
   {
    "duration": 25,
    "start_time": "2021-12-16T05:45:22.508Z"
   },
   {
    "duration": 39,
    "start_time": "2021-12-16T05:45:22.537Z"
   },
   {
    "duration": 18,
    "start_time": "2021-12-16T05:45:22.578Z"
   },
   {
    "duration": 18,
    "start_time": "2021-12-16T05:45:22.598Z"
   },
   {
    "duration": 50,
    "start_time": "2021-12-16T05:45:22.618Z"
   },
   {
    "duration": 18,
    "start_time": "2021-12-16T05:45:22.670Z"
   },
   {
    "duration": 5,
    "start_time": "2021-12-16T05:45:22.690Z"
   },
   {
    "duration": 16,
    "start_time": "2021-12-16T05:45:22.697Z"
   },
   {
    "duration": 49,
    "start_time": "2021-12-16T05:45:22.715Z"
   },
   {
    "duration": 6,
    "start_time": "2021-12-16T05:45:22.767Z"
   },
   {
    "duration": 7756,
    "start_time": "2021-12-16T05:45:22.776Z"
   },
   {
    "duration": -54,
    "start_time": "2021-12-16T05:45:30.588Z"
   },
   {
    "duration": -56,
    "start_time": "2021-12-16T05:45:30.591Z"
   },
   {
    "duration": -64,
    "start_time": "2021-12-16T05:45:30.601Z"
   },
   {
    "duration": -66,
    "start_time": "2021-12-16T05:45:30.604Z"
   },
   {
    "duration": -67,
    "start_time": "2021-12-16T05:45:30.606Z"
   },
   {
    "duration": -69,
    "start_time": "2021-12-16T05:45:30.609Z"
   },
   {
    "duration": -78,
    "start_time": "2021-12-16T05:45:30.619Z"
   }
  ],
  "colab": {
   "collapsed_sections": [
    "E0vqbgi9ay0H",
    "VUC88oWjTJw2"
   ],
   "name": "yandex_music_project_2021.2.ipynb",
   "provenance": []
  },
  "kernelspec": {
   "display_name": "Python 3 (ipykernel)",
   "language": "python",
   "name": "python3"
  },
  "language_info": {
   "codemirror_mode": {
    "name": "ipython",
    "version": 3
   },
   "file_extension": ".py",
   "mimetype": "text/x-python",
   "name": "python",
   "nbconvert_exporter": "python",
   "pygments_lexer": "ipython3",
   "version": "3.9.7"
  },
  "toc": {
   "base_numbering": 1,
   "nav_menu": {},
   "number_sections": true,
   "sideBar": true,
   "skip_h1_title": true,
   "title_cell": "Table of Contents",
   "title_sidebar": "Contents",
   "toc_cell": false,
   "toc_position": {},
   "toc_section_display": true,
   "toc_window_display": true
  }
 },
 "nbformat": 4,
 "nbformat_minor": 1
}
